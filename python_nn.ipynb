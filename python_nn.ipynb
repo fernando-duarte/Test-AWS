{
 "cells": [
  {
   "cell_type": "code",
   "execution_count": 5,
   "metadata": {},
   "outputs": [],
   "source": [
    "import random # Random Number Generator \n",
    "import numpy as np #  Library for math / matrix commands\n",
    "import matplotlib.pyplot as plt  # Plotting library\n",
    "import pandas as pd # DataFrame Library\n",
    "import tensorflow as tf # Machine Learning Library (This might take a little bit of time to load)\n",
    "\n",
    "# (For Jupyter Notebook): Display Plots Inline\n",
    "%matplotlib inline"
   ]
  },
  {
   "cell_type": "code",
   "execution_count": 67,
   "metadata": {
    "scrolled": true
   },
   "outputs": [
    {
     "name": "stdout",
     "output_type": "stream",
     "text": [
      "Initial Loss 179.052428\n",
      "Final Loss 0.004053\n"
     ]
    }
   ],
   "source": [
    "# This code trains the neural network called `model` to fit the function y(x) = exp(T+x) / (1+exp(T+x))\n",
    "\n",
    "# define the loss function\n",
    "def loss_fn(y_true,y_pred):\n",
    "    return tf.math.reduce_sum(tf.math.square((y_pred-y_true)))\n",
    "\n",
    "# generate training data from the true function\n",
    "np.random.seed(1234)\n",
    "xData = np.random.normal(0,1,500)\n",
    "T = float(0.5)\n",
    "y = np.exp(T+xData) /(1+np.exp(T+xData))\n",
    "d = [(xData,y)]\n",
    "\n",
    "\n",
    "# Construct Model Architecture\n",
    "initializer = tf.keras.initializers.RandomNormal(mean=0., stddev=1.,seed=1)\n",
    "model = tf.keras.Sequential([\n",
    "    tf.keras.layers.Flatten(input_shape=(1,)),\n",
    "    tf.keras.layers.Dense(10, kernel_initializer=initializer),\n",
    "    tf.keras.layers.Dense(10,activation = 'sigmoid', kernel_initializer=initializer),\n",
    "    tf.keras.layers.Dense(1, kernel_initializer=initializer)\n",
    "])\n",
    "\n",
    "# Define Model Setting\n",
    "model.compile(optimizer='adam',\n",
    "              loss = loss_fn,\n",
    "              metrics=['accuracy'])\n",
    "\n",
    "\n",
    "# Train the neural network\n",
    "history = tf.keras.callbacks.History() # Lets us look back at the performance of each epoch\n",
    "model.fit(xData,y, epochs=100, verbose = 0,callbacks=[history])\n",
    "\n",
    "# Generate Predicted Values\n",
    "predictions = model.predict(xData)\n",
    "\n",
    "# Show Initial and Final Loss\n",
    "print(\"Initial Loss %f\" %history.history['loss'][0])\n",
    "print(\"Final Loss %f\" %history.history['loss'][-1])"
   ]
  },
  {
   "cell_type": "code",
   "execution_count": 65,
   "metadata": {},
   "outputs": [
    {
     "data": {
      "text/html": [
       "<div>\n",
       "<style scoped>\n",
       "    .dataframe tbody tr th:only-of-type {\n",
       "        vertical-align: middle;\n",
       "    }\n",
       "\n",
       "    .dataframe tbody tr th {\n",
       "        vertical-align: top;\n",
       "    }\n",
       "\n",
       "    .dataframe thead th {\n",
       "        text-align: right;\n",
       "    }\n",
       "</style>\n",
       "<table border=\"1\" class=\"dataframe\">\n",
       "  <thead>\n",
       "    <tr style=\"text-align: right;\">\n",
       "      <th></th>\n",
       "      <th>x</th>\n",
       "      <th>yhat</th>\n",
       "      <th>true_y</th>\n",
       "    </tr>\n",
       "  </thead>\n",
       "  <tbody>\n",
       "    <tr>\n",
       "      <th>0</th>\n",
       "      <td>0.471435</td>\n",
       "      <td>0.727825</td>\n",
       "      <td>0.725405</td>\n",
       "    </tr>\n",
       "    <tr>\n",
       "      <th>1</th>\n",
       "      <td>-1.190976</td>\n",
       "      <td>0.324476</td>\n",
       "      <td>0.333816</td>\n",
       "    </tr>\n",
       "    <tr>\n",
       "      <th>2</th>\n",
       "      <td>1.432707</td>\n",
       "      <td>0.870462</td>\n",
       "      <td>0.873549</td>\n",
       "    </tr>\n",
       "    <tr>\n",
       "      <th>3</th>\n",
       "      <td>-0.312652</td>\n",
       "      <td>0.544781</td>\n",
       "      <td>0.546701</td>\n",
       "    </tr>\n",
       "    <tr>\n",
       "      <th>4</th>\n",
       "      <td>-0.720589</td>\n",
       "      <td>0.462750</td>\n",
       "      <td>0.445075</td>\n",
       "    </tr>\n",
       "  </tbody>\n",
       "</table>\n",
       "</div>"
      ],
      "text/plain": [
       "          x      yhat    true_y\n",
       "0  0.471435  0.727825  0.725405\n",
       "1 -1.190976  0.324476  0.333816\n",
       "2  1.432707  0.870462  0.873549\n",
       "3 -0.312652  0.544781  0.546701\n",
       "4 -0.720589  0.462750  0.445075"
      ]
     },
     "execution_count": 65,
     "metadata": {},
     "output_type": "execute_result"
    }
   ],
   "source": [
    "# Compare function we are trying to fit with the trained neural network\n",
    "\n",
    "# Store  Results in DataFrame For  Easy Plotting, Analysis, etc (not really necessary)\n",
    "df = pd.DataFrame({'x': xData.tolist(),'yhat': [x[0] for x in predictions.tolist()]})\n",
    "df['true_y'] = df['x'].apply(lambda x: np.exp(T+x) /(1+np.exp(T+x)))\n",
    "df.head() # Show first 5 rows"
   ]
  },
  {
   "cell_type": "code",
   "execution_count": 66,
   "metadata": {},
   "outputs": [
    {
     "data": {
      "image/png": "[encoded data removed]",
      "text/plain": [
       "<Figure size 432x288 with 1 Axes>"
      ]
     },
     "metadata": {},
     "output_type": "display_data"
    },
    {
     "data": {
      "image/png": "[encoded data removed]",
      "text/plain": [
       "<Figure size 432x288 with 1 Axes>"
      ]
     },
     "metadata": {},
     "output_type": "display_data"
    }
   ],
   "source": [
    "# Plot Neural Network vs. True\n",
    "plt.scatter(df.x,df.true_y,label = \"True Function\")\n",
    "plt.scatter(df.x,df.yhat,label = \"Trained Neural Network\")\n",
    "plt.legend(loc=\"lower right\")\n",
    "plt.title(\"Neural Network vs. True Function\")\n",
    "plt.show()\n",
    "\n",
    "# Plot Loss Over  Time\n",
    "plt.figure()\n",
    "plt.plot(history.history['loss'])\n",
    "plt.title(\"Loss Over  Time\")\n",
    "plt.xlabel(\"Epoch #\")\n",
    "plt.show()"
   ]
  },
  {
   "cell_type": "code",
   "execution_count": null,
   "metadata": {},
   "outputs": [],
   "source": []
  },
  {
   "cell_type": "code",
   "execution_count": null,
   "metadata": {},
   "outputs": [],
   "source": []
  }
 ],
 "metadata": {
  "kernelspec": {
   "display_name": "conda_tensorflow_p27",
   "language": "python",
   "name": "conda_tensorflow_p27"
  },
  "language_info": {
   "codemirror_mode": {
    "name": "ipython",
    "version": 2
   },
   "file_extension": ".py",
   "mimetype": "text/x-python",
   "name": "python",
   "nbconvert_exporter": "python",
   "pygments_lexer": "ipython2",
   "version": "2.7.16"
  }
 },
 "nbformat": 4,
 "nbformat_minor": 4
}
